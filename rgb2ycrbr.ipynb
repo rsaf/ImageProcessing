{
 "cells": [
  {
   "cell_type": "code",
   "execution_count": null,
   "metadata": {
    "collapsed": true
   },
   "outputs": [],
   "source": [
    "#incomple"
   ]
  },
  {
   "cell_type": "code",
   "execution_count": 2,
   "metadata": {
    "collapsed": false
   },
   "outputs": [],
   "source": [
    "%matplotlib inline"
   ]
  },
  {
   "cell_type": "code",
   "execution_count": 4,
   "metadata": {
    "collapsed": false
   },
   "outputs": [
    {
     "name": "stdout",
     "output_type": "stream",
     "text": [
      "((1080, 1920, 3), (1080, 1920, 3), (1080, 1920, 3))\n"
     ]
    }
   ],
   "source": [
    "from PIL import Image\n",
    "import numpy as np\n",
    "from skimage.filters import threshold_otsu\n",
    "import skimage.exposure as imexp\n",
    "import matplotlib\n",
    "import skimage.color as color\n",
    "from matplotlib import pyplot as plt\n",
    "\n",
    "#defining function\n",
    "\n",
    "  \n",
    "#loading images\n",
    "im1 = Image.open('samples/29  ≥π‹ Í⁄√≈.bmp')\n",
    "im2 = Image.open('samples/30  ≥π‹ ≥›◊¥œﬂ.bmp')\n",
    "im3 = Image.open('samples/34  ≥π‹÷–…œ.bmp')\n",
    "\n",
    "npimg1 = np.array(im1);\n",
    "npimg2 = np.array(im2);\n",
    "npimg3 = np.array(im3);\n",
    "print(npimg1.shape,npimg2.shape,npimg3.shape);\n",
    "\n"
   ]
  },
  {
   "cell_type": "code",
   "execution_count": 5,
   "metadata": {
    "collapsed": true
   },
   "outputs": [],
   "source": [
    "def _ycc(r, g, b): # in (0,255) range\n",
    "    y = .299*r + .587*g + .114*b\n",
    "    cb = 128 -.168736*r -.331364*g + .5*b\n",
    "    cr = 128 +.5*r - .418688*g - .081312*b\n",
    "    return y, cb, cr\n",
    "\n",
    "def _rgb(y, cb, cr):\n",
    "    r = y + 1.402 * (cr-128)\n",
    "    g = y - .34414 * (cb-128) -  .71414 * (cr-128)\n",
    "    b = y + 1.772 * (cb-128)\n",
    "    return r, g, b"
   ]
  },
  {
   "cell_type": "code",
   "execution_count": null,
   "metadata": {
    "collapsed": true
   },
   "outputs": [],
   "source": [
    "def rgb2ycrbr(im):\n",
    "    ycrbr = nil\n",
    "    for ii in range(1,rr):\n",
    "        iidash = ii+s\n",
    "    \n",
    "    return ycrbr"
   ]
  },
  {
   "cell_type": "code",
   "execution_count": 7,
   "metadata": {
    "collapsed": false
   },
   "outputs": [],
   "source": [
    "hedimg1 = color.rgb2hed(npimg1)\n",
    "hedimg2 = color.rgb2hed(npimg2)\n",
    "hedimg3 = color.rgb2hed(npimg3)\n",
    "\n",
    "# fig, axes= plt.subplots(3, 3, figsize=(20, 100), sharex=True, sharey=True)\n",
    "\n",
    "# axes[0,0].imshow(npimg1,cmap='gray')\n",
    "# axes[0,0].set_title('original1')\n",
    "# axes[0,0].axis('off')\n",
    "\n",
    "# axes[0,1].imshow(npimg2,cmap='gray')\n",
    "# axes[0,1].set_title('original2')\n",
    "# axes[0,1].axis('off')\n",
    "\n",
    "\n",
    "plt.show()"
   ]
  }
 ],
 "metadata": {
  "kernelspec": {
   "display_name": "Python 2",
   "language": "python",
   "name": "python2"
  },
  "language_info": {
   "codemirror_mode": {
    "name": "ipython",
    "version": 2
   },
   "file_extension": ".py",
   "mimetype": "text/x-python",
   "name": "python",
   "nbconvert_exporter": "python",
   "pygments_lexer": "ipython2",
   "version": "2.7.11"
  }
 },
 "nbformat": 4,
 "nbformat_minor": 0
}
