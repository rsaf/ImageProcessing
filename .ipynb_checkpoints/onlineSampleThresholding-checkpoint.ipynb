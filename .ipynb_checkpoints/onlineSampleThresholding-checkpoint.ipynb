{
 "cells": [
  {
   "cell_type": "code",
   "execution_count": null,
   "metadata": {
    "collapsed": true
   },
   "outputs": [],
   "source": [
    "#Thresholding"
   ]
  },
  {
   "cell_type": "code",
   "execution_count": null,
   "metadata": {
    "collapsed": false
   },
   "outputs": [],
   "source": [
    "%matplotlib inline"
   ]
  },
  {
   "cell_type": "code",
   "execution_count": null,
   "metadata": {
    "collapsed": true
   },
   "outputs": [],
   "source": [
    "#import libraries"
   ]
  },
  {
   "cell_type": "code",
   "execution_count": null,
   "metadata": {
    "collapsed": true
   },
   "outputs": [],
   "source": [
    "from PIL import Image\n",
    "import numpy as np\n",
    "from skimage import data\n",
    "from skimage.morphology import disk\n",
    "from matplotlib import pyplot as plt\n",
    "from skimage.filters.rank import entropy\n",
    "import math"
   ]
  },
  {
   "cell_type": "code",
   "execution_count": null,
   "metadata": {
    "collapsed": true
   },
   "outputs": [],
   "source": [
    "#loading images"
   ]
  },
  {
   "cell_type": "code",
   "execution_count": null,
   "metadata": {
    "collapsed": false
   },
   "outputs": [],
   "source": [
    "im1 = Image.open('onlineSamples/textures/1.jpg')\n",
    "im2 = Image.open('onlineSamples/textures/2.jpg')\n",
    "im3 = Image.open('onlineSamples/textures/3.jpg')\n",
    "\n",
    "npimg1 = np.array(im1);\n",
    "npimg2 = np.array(im2);\n",
    "npimg3 = np.array(im3);\n",
    "print(npimg1.shape,npimg2.shape,npimg3.shape);"
   ]
  },
  {
   "cell_type": "code",
   "execution_count": null,
   "metadata": {
    "collapsed": true
   },
   "outputs": [],
   "source": [
    "#renyi entropy"
   ]
  },
  {
   "cell_type": "code",
   "execution_count": null,
   "metadata": {
    "collapsed": true
   },
   "outputs": [],
   "source": [
    "import skimage.exposure as imexp\n",
    "\n",
    "def renyi_seg_fn(im,alpha,coef):\n",
    "    hist = imexp.histogram(im)\n",
    "    \n",
    "    #convert all values to float\n",
    "    hist_float = [float(i) for i in hist[0]]\n",
    "    \n",
    "    #compute the pdf\n",
    "    pdf = hist_float/np.sum(hist_float)\n",
    "    \n",
    "    #compute the cdf\n",
    "    cumsum_pdf = np.cumsum(pdf)\n",
    "    \n",
    "    s = 0\n",
    "    e = 255 # asuming 8 bit image\n",
    "    scalar  = 1.0/(1-alpha)\n",
    "    \n",
    "    #A very small balue to prevent divition by zero\n",
    "    eps = np.spacing(1)\n",
    "    rr= e-s\n",
    "    \n",
    "    #the second parentheses is needed because the parameters are tuple\n",
    "    h1 = np.zeros((rr,1))\n",
    "    h2 = np.zeros((rr,1))\n",
    "    \n",
    "    #the following llop coputes h1 and h2 values used to compute the entropy\n",
    "#     print (len(pdf),len(cumsum_pdf))\n",
    "    for ii in range(1,rr):\n",
    "           \n",
    "        iidash = ii+s\n",
    "        if(iidash==len(pdf)):   #temporatry fix for out of bound issue\n",
    "            break\n",
    "        temp1 = np.power(pdf[1:iidash]/cumsum_pdf[iidash],scalar)\n",
    "        h1[ii] = np.log(np.sum(temp1)+eps)\n",
    "        temp2 = np.power(pdf[iidash+1:255]/(1-cumsum_pdf[iidash]),scalar)\n",
    "        h2[ii] = np.log(np.sum(temp2)+eps)\n",
    "        \n",
    "    T = h1 + h2\n",
    "    \n",
    "    #Entropy value is calculated \n",
    "    T = -T*scalar\n",
    "    \n",
    "    \n",
    "    #location where the maximum entropy occurs is the threshold for the renyi entropy\n",
    "    location = T.argmax(axis=0)\n",
    "    \n",
    "    sortedLocation = sorted(T.ravel())\n",
    "    \n",
    "#     print(max(sortedLocation))\n",
    "#     print(sortedLocation[-3:])\n",
    "#     print(sortedLocation[:2])\n",
    "#     print(location)\n",
    "    \n",
    "    #show histogram\n",
    "    \n",
    "#     fig, axes= plt.subplots(1, 1, figsize=(10, 5), sharex=True, sharey=True)\n",
    "    \n",
    "#     axes.hist(location)\n",
    "#     plt.show()\n",
    "   \n",
    "    \n",
    "    #location value is used as the threshold\n",
    "    thresh = location\n",
    "    \n",
    "#     print (thresh)\n",
    "    threshedImg = im < thresh*coef\n",
    "#     print (\"done--\")\n",
    "    \n",
    "    return threshedImg"
   ]
  },
  {
   "cell_type": "code",
   "execution_count": null,
   "metadata": {
    "collapsed": true
   },
   "outputs": [],
   "source": [
    "#addapted entropies"
   ]
  },
  {
   "cell_type": "code",
   "execution_count": null,
   "metadata": {
    "collapsed": true
   },
   "outputs": [],
   "source": [
    "from skimage.color.adapt_rgb import adapt_rgb, each_channel, hsv_value\n",
    "\n",
    "\n",
    "#TODO SHOULD PLAY WITH THE STRUCTURE ELEMENT FOR DIFFERENT RESULTS\n",
    "\n",
    "\n",
    "@adapt_rgb(each_channel)\n",
    "def renyi_seg_each(image,alpha,coef):\n",
    "    return renyi_seg_fn(image,alpha,coef)\n",
    "\n",
    "@adapt_rgb(hsv_value)\n",
    "def renyi_seg_hsv(image,alpha,coef):\n",
    "    return renyi_seg_fn(image,alpha,coef)"
   ]
  },
  {
   "cell_type": "code",
   "execution_count": null,
   "metadata": {
    "collapsed": true
   },
   "outputs": [],
   "source": [
    "#adapted filters"
   ]
  },
  {
   "cell_type": "code",
   "execution_count": null,
   "metadata": {
    "collapsed": true
   },
   "outputs": [],
   "source": [
    "from skimage.color.adapt_rgb import adapt_rgb, each_channel, hsv_value\n",
    "from skimage.filters import rank\n",
    "from skimage.morphology import disk\n",
    "\n",
    "selem = disk(20)\n",
    "\n",
    "@adapt_rgb(each_channel)\n",
    "def mean_percentile_each(image):\n",
    "    return rank.mean_percentile(image, selem=selem, p0=.1, p1=.9)\n",
    "\n",
    "@adapt_rgb(hsv_value)\n",
    "def mean_percentile_hsv(image):\n",
    "    return rank.mean_percentile(image, selem=selem, p0=.1, p1=.9)\n",
    "\n",
    "\n",
    "@adapt_rgb(each_channel)\n",
    "def mean_bilateral_each(image):\n",
    "    return rank.mean_bilateral(image, selem=selem, s0=500, s1=500)\n",
    "\n",
    "@adapt_rgb(hsv_value)\n",
    "def mean_bilateral_hsv(image):\n",
    "    return rank.mean_bilateral(image, selem=selem, s0=500, s1=500)\n",
    "\n",
    "\n",
    "@adapt_rgb(each_channel)\n",
    "def mean_each(image):\n",
    "    return rank.mean(image, selem=selem)\n",
    "\n",
    "@adapt_rgb(hsv_value)\n",
    "def mean_hsv(image):\n",
    "    return rank.mean(image, selem=selem)\n",
    "\n",
    "\n",
    "@adapt_rgb(each_channel)\n",
    "def median_each(image):\n",
    "    return rank.median(image, selem=selem)\n",
    "\n",
    "@adapt_rgb(hsv_value)\n",
    "def median_hsv(image):\n",
    "    return rank.median(image, selem=selem)\n"
   ]
  },
  {
   "cell_type": "code",
   "execution_count": null,
   "metadata": {
    "collapsed": true
   },
   "outputs": [],
   "source": [
    "#APPLYING TO SAMPLE IMAGES :BOTH HSV AND RGB "
   ]
  },
  {
   "cell_type": "code",
   "execution_count": null,
   "metadata": {
    "collapsed": false,
    "scrolled": false
   },
   "outputs": [],
   "source": [
    "import math \n",
    "\n",
    "targetImg_titles = ['Original1','Original2','Original3']\n",
    "srcImg = [npimg1,npimg2,npimg3]\n",
    "displayImg = [npimg1,npimg2,npimg3]\n",
    "myFiltersNames = ['entropy mean_each','entropy mean_hsv','entropy mean_percentile_each', 'entropy mean_percentile_hsv'\n",
    "                  ,'entropy mean_bilateral_each','entropy mean_bilateral_hsv'\n",
    "                  ,'entropy median_each','entropy median_hsv']\n",
    "myEntropies = [renyi_seg_each]\n",
    "myFilters = [mean_each,mean_hsv,mean_percentile_each,mean_percentile_hsv\n",
    "             ,mean_bilateral_each,mean_bilateral_hsv,median_each,median_hsv]\n",
    "\n",
    "\n",
    "\n",
    "\n",
    " \n",
    "###the higher the value of alpha the fewer the number of abnormal tissues detected\n",
    "#alpha = 3\n",
    "alpha = 5\n",
    "###this coeficient is needed the detect the abonomal soft tissues\n",
    "# coef = 0.01\n",
    "coef = 1\n",
    "\n",
    "#Dynamically prepare data for plotting\n",
    "for n in range(0,len(myFilters)):\n",
    "        for k in range(0,len(myEntropies)):\n",
    "               for m in range(0,len(srcImg)):\n",
    "                    displayImg.append(myEntropies[k](myFilters[n](srcImg[m]),alpha,coef))\n",
    "                    targetImg_titles.append(myFiltersNames[n]+str(m+1)+\":\"+str(k+1))\n",
    "            \n",
    "         \n",
    "\n",
    "#Dynamically plotting\n",
    "mycols = len(srcImg)\n",
    "myrows = int(math.ceil(float(len(displayImg))/float(mycols)))\n",
    "print(myrows)\n",
    "fig, axes= plt.subplots(myrows, mycols, figsize=(30, 8*myrows), sharex=True, sharey=True)\n",
    "ax = axes.ravel()\n",
    "\n",
    "for rrr in range(mycols*myrows):\n",
    "    ax[rrr].imshow(displayImg[rrr],cmap='gray')\n",
    "    ax[rrr].set_title(targetImg_titles[rrr])\n",
    "    ax[rrr].axis('off')\n",
    "    \n",
    "plt.show()"
   ]
  },
  {
   "cell_type": "code",
   "execution_count": null,
   "metadata": {
    "collapsed": true
   },
   "outputs": [],
   "source": [
    "#HSV ONLY"
   ]
  },
  {
   "cell_type": "code",
   "execution_count": null,
   "metadata": {
    "collapsed": true
   },
   "outputs": [],
   "source": [
    "#Dynamically prepare data for plotting\n",
    "\n",
    "def mass_plot(myFilters, myEntropies, srcImg,alpha, coef):\n",
    "        for n in range(0,len(myFilters)):\n",
    "                for k in range(0,len(myEntropies)):\n",
    "                       for m in range(0,len(srcImg)):\n",
    "                            displayImg.append(myEntropies[k](myFilters[n](srcImg[m]),alpha,coef))\n",
    "                            targetImg_titles.append(myFiltersNames[n]+str(m+1)+\":\"+str(k+1))\n",
    "\n",
    "\n",
    "\n",
    "        #Dynamically plotting\n",
    "        mycols = len(srcImg)\n",
    "        myrows = int(math.ceil(float(len(displayImg))/float(mycols)))\n",
    "#         print(myrows)\n",
    "        fig, axes= plt.subplots(myrows, mycols, figsize=(30, 8*myrows), sharex=True, sharey=True)\n",
    "        ax = axes.ravel()\n",
    "\n",
    "        for rrr in range(mycols*myrows):\n",
    "            ax[rrr].imshow(displayImg[rrr],cmap='gray')\n",
    "            ax[rrr].set_title(targetImg_titles[rrr])\n",
    "            ax[rrr].axis('off')\n",
    "\n",
    "        plt.show()"
   ]
  },
  {
   "cell_type": "code",
   "execution_count": null,
   "metadata": {
    "collapsed": false,
    "scrolled": true
   },
   "outputs": [],
   "source": [
    "import math \n",
    "\n",
    "targetImg_titles = ['Original1','Original2','Original3']\n",
    "srcImg = [npimg1,npimg2,npimg3]\n",
    "displayImg = [npimg1,npimg2,npimg3]\n",
    "myFiltersNames = ['entropy mean_hsv', 'entropy mean_percentile_hsv'\n",
    "                  ,'entropy mean_bilateral_hsv','entropy median_hsv']\n",
    "myEntropies = [renyi_seg_each]\n",
    "myFilters = [mean_hsv,mean_percentile_hsv\n",
    "             ,mean_bilateral_hsv,median_hsv]\n",
    "\n",
    "\n",
    "\n",
    "\n",
    " \n",
    "###the higher the value of alpha the fewer the number of abnormal tissues detected\n",
    "#alpha = 3\n",
    "###this coeficient is needed the detect the abonomal soft tissues\n",
    "# coef = 0.01\n",
    "coef = 1\n",
    "\n",
    "for alpha in range(3, 100):\n",
    "    print \"MASS PLOATING-----\" + str(alpha/float(2))\n",
    "    mass_plot(myFilters, myEntropies, srcImg,alpha/float(2),coef)\n",
    "  \n",
    "\n"
   ]
  }
 ],
 "metadata": {
  "kernelspec": {
   "display_name": "Python 2",
   "language": "python",
   "name": "python2"
  },
  "language_info": {
   "codemirror_mode": {
    "name": "ipython",
    "version": 2
   },
   "file_extension": ".py",
   "mimetype": "text/x-python",
   "name": "python",
   "nbconvert_exporter": "python",
   "pygments_lexer": "ipython2",
   "version": "2.7.11"
  }
 },
 "nbformat": 4,
 "nbformat_minor": 0
}
