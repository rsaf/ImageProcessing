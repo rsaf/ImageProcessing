{
 "cells": [
  {
   "cell_type": "code",
   "execution_count": 26,
   "metadata": {
    "collapsed": true
   },
   "outputs": [],
   "source": [
    "#HSV segmentation"
   ]
  },
  {
   "cell_type": "code",
   "execution_count": 27,
   "metadata": {
    "collapsed": false,
    "scrolled": false
   },
   "outputs": [],
   "source": [
    "%matplotlib inline\n",
    "from matplotlib import pyplot as plt\n",
    "from skimage.transform import resize\n",
    "from skimage import data,color, exposure,feature,io\n",
    "from math import *\n",
    "from skimage.color import rgb2gray\n",
    "import skimage.exposure as imexp\n",
    "from skimage.morphology import binary_opening,erosion, dilation,  opening, closing, white_tophat,black_tophat\n",
    "from skimage.filters import gabor_kernel\n",
    "from skimage.feature import blob_dog, blob_log, blob_doh\n",
    "from PIL import Image\n",
    "from scipy import ndimage as ndi\n",
    "from scipy.ndimage import gaussian_filter\n",
    "from skimage.exposure import rescale_intensity\n",
    "import matplotlib.pyplot as plt\n",
    "from skimage.feature import canny\n",
    "from skimage.transform import hough_ellipse\n",
    "from skimage.draw import ellipse_perimeter\n",
    "from skimage import img_as_float\n",
    "from skimage.morphology import disk,reconstruction\n",
    "from skimage.measure import label, regionprops\n",
    "\n",
    "\n",
    "import numpy as np\n",
    "np.seterr(divide='ignore', invalid='ignore')\n",
    "from matplotlib import style\n",
    "\n",
    "style.use('ggplot')"
   ]
  },
  {
   "cell_type": "code",
   "execution_count": 28,
   "metadata": {
    "collapsed": true
   },
   "outputs": [],
   "source": [
    "def preProcessImg(img):\n",
    "    gausssianSig = 0.4\n",
    "    \n",
    "    # Rescale image intensity so that we can see dim features.\n",
    "    image = img_as_float(img)\n",
    "    image = gaussian_filter(image,gausssianSig)\n",
    "#     image = rescale_intensity(image, in_range=(50, 200))\n",
    "    \n",
    "    return image"
   ]
  },
  {
   "cell_type": "code",
   "execution_count": 29,
   "metadata": {
    "collapsed": true
   },
   "outputs": [],
   "source": [
    "#loading data"
   ]
  },
  {
   "cell_type": "code",
   "execution_count": 30,
   "metadata": {
    "collapsed": false,
    "scrolled": true
   },
   "outputs": [
    {
     "name": "stdout",
     "output_type": "stream",
     "text": [
      "15\n",
      "2\n",
      "0\n",
      "2\n",
      "2\n",
      "(300, 300, 3)\n",
      "(100, 100, 3)\n",
      "(100, 100, 3)\n",
      "(34, 33, 3)\n"
     ]
    }
   ],
   "source": [
    "\n",
    "\n",
    "imgSamples = [];\n",
    "imgHsvSamples = [];\n",
    "\n",
    "\n",
    "patches = [];\n",
    "patchesHsv = [];\n",
    "\n",
    "\n",
    "whitePatches = [];\n",
    "whitePatchesHsv = [];\n",
    "\n",
    "blackPatches = [];\n",
    "blackPatchesHsv = [];\n",
    "\n",
    "\n",
    "lesionPatches = [];\n",
    "lesionPatchesHsv = [];\n",
    "\n",
    "\n",
    "samplingSize =(300,300)\n",
    "#samplingMode = 'nearest'\n",
    "samplingMode = 'wrap'\n",
    "\n",
    "\n",
    "\n",
    "\n",
    "\n",
    "\n",
    "for i in range(0,15):\n",
    "    imgSamples.append(preProcessImg(resize(np.array(Image.open('newSamples/'+str(i+1)+'.jpg')), samplingSize,mode=samplingMode)))\n",
    "                      \n",
    "for i in range(len(imgSamples)):\n",
    "    imgHsvSamples.append(color.rgb2hsv(imgSamples[i]))\n",
    "    \n",
    "    \n",
    "for i in range(0,2):\n",
    "    patches.append(preProcessImg(np.array(Image.open('newPatchesPeaks/normal'+str(i+1)+'.jpg'))))\n",
    "                      \n",
    "for i in range(len(patches)):\n",
    "    patchesHsv.append(color.rgb2hsv(patches[i]))\n",
    "    \n",
    "# for i in range(0,1):\n",
    "#     whitePatches.append(preProcessImg(np.array(Image.open('newPatchesPeaks/white'+str(i+1)+'.jpg'))))\n",
    "                      \n",
    "# for i in range(len(whitePatches)):\n",
    "#     whitePatchesHsv.append(color.rgb2hsv(whitePatches[i]))\n",
    "\n",
    "for i in range(0,2):\n",
    "    blackPatches.append(preProcessImg( np.array(Image.open('newPatchesPeaks/black'+str(i+1)+'.jpg'))))\n",
    "    \n",
    "for i in range(len(blackPatches)):\n",
    "    blackPatchesHsv.append(color.rgb2hsv(blackPatches[i]))\n",
    "    \n",
    "for i in range(0,2):\n",
    "    lesionPatches.append(preProcessImg(np.array(Image.open('newPatchesPeaks/lesion'+str(i+1)+'.jpg'))))\n",
    "    \n",
    "for i in range(len(lesionPatches)):\n",
    "    lesionPatchesHsv.append(color.rgb2hsv(lesionPatches[i]))\n",
    "\n",
    "\n",
    "print(len(imgHsvSamples))  \n",
    "print(len(patchesHsv)) \n",
    "print(len(whitePatchesHsv)) \n",
    "print(len(blackPatchesHsv)) \n",
    "print(len(lesionPatches)) \n",
    "print(imgHsvSamples[0].shape)\n",
    "print(patchesHsv[0].shape)\n",
    "# print(whitePatchesHsv[0].shape)\n",
    "print(blackPatchesHsv[0].shape)\n",
    "print(lesionPatchesHsv[0].shape)"
   ]
  },
  {
   "cell_type": "code",
   "execution_count": null,
   "metadata": {
    "collapsed": false
   },
   "outputs": [],
   "source": []
  },
  {
   "cell_type": "code",
   "execution_count": 31,
   "metadata": {
    "collapsed": true
   },
   "outputs": [],
   "source": [
    "##saturation thresholding"
   ]
  },
  {
   "cell_type": "code",
   "execution_count": 32,
   "metadata": {
    "collapsed": false
   },
   "outputs": [],
   "source": [
    "def satThreshold(v,s):    ##return hue or intensity as dominant feature\n",
    "    th = 1.0 - 0.8*v;\n",
    "    if(s>th):\n",
    "        return \"h\"\n",
    "    else: \n",
    "        return \"v\"\n",
    "    "
   ]
  },
  {
   "cell_type": "code",
   "execution_count": 33,
   "metadata": {
    "collapsed": true
   },
   "outputs": [],
   "source": [
    "def approximate(img):\n",
    "    tmpImg = np.zeros(img.shape)\n",
    "    for i in range(img.shape[0]):\n",
    "        for j in range(img.shape[1]):\n",
    "            dominantVal = satThreshold(img[i,j,2],img[i,j,1])\n",
    "#             print(\"dominantVal----\"+dominantVal)\n",
    "            tmpImg[i,j,:] = img[i,j,:]\n",
    "            if dominantVal == \"h\":\n",
    "                tmpImg[i,j,0] = img[i,j,0]\n",
    "                tmpImg[i,j,1] = 1.0\n",
    "                tmpImg[i,j,2] = 1.0\n",
    "                \n",
    "            else:\n",
    "                tmpImg[i,j,0] = 1.0\n",
    "                tmpImg[i,j,1] = 1.0\n",
    "                tmpImg[i,j,2] = img[i,j,2]\n",
    "        \n",
    "    return tmpImg"
   ]
  },
  {
   "cell_type": "code",
   "execution_count": null,
   "metadata": {
    "collapsed": false,
    "scrolled": false
   },
   "outputs": [],
   "source": []
  },
  {
   "cell_type": "code",
   "execution_count": 34,
   "metadata": {
    "collapsed": false,
    "scrolled": false
   },
   "outputs": [],
   "source": [
    "###Gabor filter\n",
    "\n",
    "def filterImage(image, kernels):\n",
    "    filtered = []\n",
    "    for k, kernel in enumerate(kernels):\n",
    "        filtered.append(ndi.convolve(image, kernel, mode='wrap'))\n",
    "    return filtered"
   ]
  },
  {
   "cell_type": "code",
   "execution_count": null,
   "metadata": {
    "collapsed": false
   },
   "outputs": [],
   "source": []
  },
  {
   "cell_type": "code",
   "execution_count": null,
   "metadata": {
    "collapsed": false
   },
   "outputs": [],
   "source": []
  },
  {
   "cell_type": "code",
   "execution_count": 35,
   "metadata": {
    "collapsed": false
   },
   "outputs": [],
   "source": [
    "def mass_compute_and_combine_feats(filteredImg,hsvImg,aprocHsvImg):\n",
    "    \n",
    "    coreFeatsLen = hsvImg.shape[2]+aprocHsvImg.shape[2]\n",
    "    textTureFeatsLen = len(filteredImg)*3\n",
    "    dim = textTureFeatsLen+coreFeatsLen\n",
    "    feats = np.zeros((filteredImg[0].shape[0],filteredImg[0].shape[1],dim))\n",
    "    step = 0\n",
    "\n",
    "    for m_index,image in enumerate(filteredImg):\n",
    "        for i in range(image.shape[0]):\n",
    "            for j in range(image.shape[1]):\n",
    "                window = image[max(i-1,0):min(i+1,image.shape[0]-1),max(j-1,0):min(j+1,image.shape[1]-1)]\n",
    "                feats[i,j, step] = window.mean()\n",
    "                feats[i,j, step+1] = window.var()\n",
    "                feats[i,j, step+2] = image[i,j]\n",
    "                if step+3 == textTureFeatsLen:\n",
    "                    \n",
    "                    feats[i,j, step+3] = hsvImg[i,j,0]\n",
    "                    feats[i,j, step+4] = hsvImg[i,j,1]\n",
    "                    feats[i,j, step+5] = hsvImg[i,j,2]\n",
    "                    feats[i,j, step+6] = aprocHsvImg[i,j,0]\n",
    "                    feats[i,j, step+7] = aprocHsvImg[i,j,1]\n",
    "                    feats[i,j, step+8] = aprocHsvImg[i,j,2]\n",
    "                \n",
    "        step += 3\n",
    " \n",
    "    return feats"
   ]
  },
  {
   "cell_type": "code",
   "execution_count": 36,
   "metadata": {
    "collapsed": false,
    "scrolled": false
   },
   "outputs": [],
   "source": [
    "def mass_compute_and_combine_feats2(filteredImg,hsvImg):\n",
    "    \n",
    "    coreFeatsLen = hsvImg.shape[2]\n",
    "    textTureFeatsLen = len(filteredImg)*3\n",
    "    dim = textTureFeatsLen+coreFeatsLen\n",
    "    feats = np.zeros((filteredImg[0].shape[0],filteredImg[0].shape[1],dim))\n",
    "    step = 0\n",
    "    \n",
    "    \n",
    "    for m_index,image in enumerate(filteredImg):\n",
    "        for i in range(image.shape[0]):\n",
    "            for j in range(image.shape[1]):\n",
    "                window = image[max(i-1,0):min(i+1,image.shape[0]-1),max(j-1,0):min(j+1,image.shape[1]-1)]\n",
    "                feats[i,j, step] = window.mean()\n",
    "                feats[i,j, step+1] = window.var()\n",
    "                feats[i,j, step+2] = image[i,j]\n",
    "                if step+3 == textTureFeatsLen:\n",
    "                    \n",
    "                    feats[i,j, step+3] = hsvImg[i,j,0]\n",
    "                    feats[i,j, step+4] = hsvImg[i,j,1]\n",
    "                    feats[i,j, step+5] = hsvImg[i,j,2]\n",
    "                \n",
    "        step += 3\n",
    " \n",
    "    return feats"
   ]
  },
  {
   "cell_type": "code",
   "execution_count": 37,
   "metadata": {
    "collapsed": true
   },
   "outputs": [],
   "source": [
    "def mass_compute_and_combine_feats3(filteredImg,aprocHsvImg):\n",
    "    \n",
    "    coreFeatsLen = aprocHsvImg.shape[2]\n",
    "    textTureFeatsLen = len(filteredImg)*3\n",
    "    dim = textTureFeatsLen+coreFeatsLen\n",
    "    feats = np.zeros((filteredImg[0].shape[0],filteredImg[0].shape[1],dim))\n",
    "    step = 0\n",
    "    \n",
    "    for m_index,image in enumerate(filteredImg):\n",
    "        for i in range(image.shape[0]):\n",
    "            for j in range(image.shape[1]):\n",
    "                window = image[max(i-1,0):min(i+1,image.shape[0]-1),max(j-1,0):min(j+1,image.shape[1]-1)]\n",
    "                feats[i,j, step] = window.mean()\n",
    "                feats[i,j, step+1] = window.var()\n",
    "                feats[i,j, step+2] = image[i,j]\n",
    "                if step+3 == textTureFeatsLen:\n",
    "                    \n",
    "                    feats[i,j, step+3] = aprocHsvImg[i,j,0]\n",
    "                    feats[i,j, step+4] = aprocHsvImg[i,j,1]\n",
    "                    feats[i,j, step+5] = aprocHsvImg[i,j,2]\n",
    "                \n",
    "        step += 3\n",
    " \n",
    "    return feats"
   ]
  },
  {
   "cell_type": "code",
   "execution_count": 38,
   "metadata": {
    "collapsed": true
   },
   "outputs": [],
   "source": [
    "def mass_compute_and_combine_feats4(filteredImg,hsvImg,aprocHsvImg):\n",
    "    \n",
    "    coreFeatsLen = hsvImg.shape[2]+aprocHsvImg.shape[2]\n",
    "    textTureFeatsLen = len(filteredImg)*3\n",
    "    dim = textTureFeatsLen+coreFeatsLen\n",
    "    feats = np.zeros((filteredImg[0].shape[0],filteredImg[0].shape[1],dim))\n",
    "    step = 0\n",
    "    \n",
    "    for m_index,image in enumerate(filteredImg):\n",
    "        for i in range(image.shape[0]):\n",
    "            for j in range(image.shape[1]):\n",
    "                window = image[max(i-1,0):min(i+1,image.shape[0]-1),max(j-1,0):min(j+1,image.shape[1]-1)]\n",
    "                feats[i,j, step] = np.sum(window**2)\n",
    "                feats[i,j, step+1] =  np.sum(np.absolute(window))\n",
    "                feats[i,j, step+2] = image[i,j]\n",
    "                if step+3 == textTureFeatsLen:\n",
    "                    \n",
    "                    feats[i,j, step+3] = hsvImg[i,j,0]\n",
    "                    feats[i,j, step+4] = hsvImg[i,j,1]\n",
    "                    feats[i,j, step+5] = hsvImg[i,j,2]\n",
    "                    feats[i,j, step+6] = aprocHsvImg[i,j,0]\n",
    "                    feats[i,j, step+7] = aprocHsvImg[i,j,1]\n",
    "                    feats[i,j, step+8] = aprocHsvImg[i,j,2]\n",
    "                \n",
    "        step += 3\n",
    " \n",
    "    return feats"
   ]
  },
  {
   "cell_type": "code",
   "execution_count": 39,
   "metadata": {
    "collapsed": false
   },
   "outputs": [],
   "source": [
    "def mass_compute_and_combine_feats5(filteredImg,hsvImg,aprocHsvImg):\n",
    "    \n",
    "    coreFeatsLen = hsvImg.shape[2]+aprocHsvImg.shape[2]\n",
    "    textTureFeatsLen = len(filteredImg)*5\n",
    "    dim = textTureFeatsLen+coreFeatsLen\n",
    "    feats = np.zeros((filteredImg[0].shape[0],filteredImg[0].shape[1],dim))\n",
    "    step = 0\n",
    "    \n",
    "    for m_index,image in enumerate(filteredImg):\n",
    "        for i in range(image.shape[0]):\n",
    "            for j in range(image.shape[1]):\n",
    "                window = image[max(i-1,0):min(i+1,image.shape[0]-1),max(j-1,0):min(j+1,image.shape[1]-1)]\n",
    "                feats[i,j, step] = np.sum(window**2)\n",
    "                feats[i,j, step+1] =  np.sum(np.absolute(window))\n",
    "                feats[i,j, step+2] = image[i,j]\n",
    "                feats[i,j, step+3] = window.mean()\n",
    "                feats[i,j, step+4] = window.var()\n",
    "                if step+3 == textTureFeatsLen:\n",
    "                    \n",
    "                    feats[i,j, step+5] = hsvImg[i,j,0]\n",
    "                    feats[i,j, step+6] = hsvImg[i,j,1]\n",
    "                    feats[i,j, step+7] = hsvImg[i,j,2]\n",
    "                    feats[i,j, step+8] = aprocHsvImg[i,j,0]\n",
    "                    feats[i,j, step+9] = aprocHsvImg[i,j,1]\n",
    "                    feats[i,j, step+10] = aprocHsvImg[i,j,2]\n",
    "                \n",
    "        step += 3\n",
    " \n",
    "    return feats"
   ]
  },
  {
   "cell_type": "code",
   "execution_count": 40,
   "metadata": {
    "collapsed": true
   },
   "outputs": [],
   "source": [
    "def mass_compute_and_combine_feats6(filteredImg,hsvImg,aprocHsvImg):\n",
    "    \n",
    "    coreFeatsLen = 0\n",
    "    textTureFeatsLen = len(filteredImg)*5\n",
    "    dim = textTureFeatsLen+coreFeatsLen\n",
    "    feats = np.zeros((filteredImg[0].shape[0],filteredImg[0].shape[1],dim))\n",
    "    step = 0\n",
    "    \n",
    "    for m_index,image in enumerate(filteredImg):\n",
    "        for i in range(image.shape[0]):\n",
    "            for j in range(image.shape[1]):\n",
    "                window = image[max(i-1,0):min(i+1,image.shape[0]-1),max(j-1,0):min(j+1,image.shape[1]-1)]\n",
    "                feats[i,j, step] = np.sum(window**2)\n",
    "                feats[i,j, step+1] =  np.sum(np.absolute(window))\n",
    "                feats[i,j, step+2] = image[i,j]\n",
    "                feats[i,j, step+3] = window.mean()\n",
    "                feats[i,j, step+4] = window.var()\n",
    "        step += 3\n",
    "        \n",
    "    return feats"
   ]
  },
  {
   "cell_type": "code",
   "execution_count": null,
   "metadata": {
    "collapsed": false
   },
   "outputs": [],
   "source": []
  },
  {
   "cell_type": "code",
   "execution_count": 41,
   "metadata": {
    "collapsed": false
   },
   "outputs": [],
   "source": [
    "# print(ref_img_feats())"
   ]
  },
  {
   "cell_type": "code",
   "execution_count": null,
   "metadata": {
    "collapsed": false
   },
   "outputs": [],
   "source": []
  },
  {
   "cell_type": "code",
   "execution_count": 42,
   "metadata": {
    "collapsed": false,
    "scrolled": false
   },
   "outputs": [],
   "source": [
    "# print(ref_white_img_feats())"
   ]
  },
  {
   "cell_type": "code",
   "execution_count": null,
   "metadata": {
    "collapsed": true
   },
   "outputs": [],
   "source": []
  },
  {
   "cell_type": "code",
   "execution_count": 43,
   "metadata": {
    "collapsed": false
   },
   "outputs": [],
   "source": [
    "\n",
    "def ref_img_feats(patchesName,which=1):\n",
    "    \n",
    "    \n",
    "    if patchesName == 'normal':   \n",
    "        targetImg = patches\n",
    "        targetImgHSV = patchesHsv\n",
    "    elif patchesName == 'white':\n",
    "        targetImg = whitePatches\n",
    "        targetImgHSV = whitePatchesHsv\n",
    "    elif patchesName == 'black':\n",
    "        targetImg = blackPatches\n",
    "        targetImgHSV = blackPatchesHsv\n",
    "    elif patchesName == 'lesion':\n",
    "        targetImg = lesionPatches\n",
    "        targetImgHSV = lesionPatchesHsv\n",
    "        \n",
    "    \n",
    "    ref_feats = {}\n",
    "\n",
    "    \n",
    "    for i in range(len(targetImgHSV)):\n",
    "        imgToFilter = rgb2gray(targetImg[i])\n",
    "        imgToFilter = rescale_intensity(imgToFilter, in_range=(0.4, 0.9))\n",
    "        filtredImg = filterImage(imgToFilter,kernels)     \n",
    "        \n",
    "        if which ==1 :\n",
    "            ref_feats[i] = mass_compute_and_combine_feats(filtredImg,targetImgHSV[i],approximate(targetImgHSV[i]))\n",
    "        elif which == 2:\n",
    "            ref_feats[i] =  mass_compute_and_combine_feats2(filtredImg,targetImgHSV[i])\n",
    "        elif which == 3:\n",
    "            ref_feats[i] =  mass_compute_and_combine_feats3(filtredImg,approximate(targetImgHSV[i]))\n",
    "        elif which == 4:\n",
    "            ref_feats[i] = mass_compute_and_combine_feats4(filtredImg,targetImgHSV[i],approximate(targetImgHSV[i]))\n",
    "\n",
    "        elif which == 5:\n",
    "            ref_feats[i] = mass_compute_and_combine_feats5(filtredImg,targetImgHSV[i],approximate(targetImgHSV[i]))\n",
    "\n",
    "        elif which == 6:\n",
    "            ref_feats[i] = mass_compute_and_combine_feats6(filtredImg,targetImgHSV[i],approximate(targetImgHSV[i]))\n",
    "        ref_feats[i] = np.mean(ref_feats[i], axis=0)\n",
    "        \n",
    "    return ref_feats"
   ]
  },
  {
   "cell_type": "code",
   "execution_count": null,
   "metadata": {
    "collapsed": false
   },
   "outputs": [],
   "source": []
  },
  {
   "cell_type": "code",
   "execution_count": 44,
   "metadata": {
    "collapsed": false
   },
   "outputs": [],
   "source": [
    "###k-means for features\n",
    "\n",
    "\n",
    "####k-means class\n",
    "\n",
    "\n",
    "\n",
    "class K_Means_Feats:\n",
    "    def __init__(self, k=10, tol=0.001, max_iter=300):\n",
    "        self.k = k\n",
    "        self.tol = tol\n",
    "        self.max_iter = max_iter\n",
    "        self.rgbColors = np.array([[0,255,0],[255,255,255],[0,0,0],[255,0,0],[0,0,255],[255,255,0],[0,255,255],[255,0,255],[51,51,255],[102,102,0],[255,0,127],[160,32,240],[238,130,238]])\n",
    "        self.rgbColors.astype(float)\n",
    "#        white, green, ,red, yellow, purple,violet\n",
    "\n",
    "\n",
    "\n",
    "    \n",
    "    \n",
    "    def fit(self,img,which=1):\n",
    "\n",
    "        self.centroids = {}\n",
    "        \n",
    "        tempImg = img\n",
    "\n",
    "        p_index = len(patches)\n",
    "        w_p_index = len(patches)+len(whitePatches)\n",
    "        b_p_index = len(patches)+len(whitePatches)+len(blackPatches)\n",
    "        \n",
    "        \n",
    "        \n",
    "        \n",
    "        ref_feats_n = ref_feats_dict[which-1][0]\n",
    "        ref_feats_w = ref_feats_dict[which-1][1]\n",
    "        ref_feats_b = ref_feats_dict[which-1][2]\n",
    "        ref_feats_l = ref_feats_dict[which-1][3]\n",
    "        \n",
    "        \n",
    "        #centroids for normal parts of the esophagus\n",
    "        for i in range(len(patches)):\n",
    "            self.centroids[i] = ref_feats_n[i][0]\n",
    "        #centroids for white and bright parts\n",
    "        for i in range(len(whitePatches)):\n",
    "            self.centroids[p_index+i] = ref_feats_w[i][0]\n",
    "        #centroids for black parts\n",
    "        for i in range(len(blackPatches)):\n",
    "            self.centroids[w_p_index+i] = ref_feats_b[i][0] \n",
    "            \n",
    "        for i in range(len(lesionPatches)):\n",
    "            self.centroids[b_p_index+i] = ref_feats_l[i][0]     \n",
    "        #ramdomly select centroid for the lesions   \n",
    "#         self.centroids[self.k-1] = img[0,0,:]\n",
    "      \n",
    "\n",
    "        for i in range(self.max_iter):\n",
    "            self.clusters = {}\n",
    "            self.clustersIndeces = {}\n",
    "                ##classes holder\n",
    "            for i in range(self.k):\n",
    "                self.clusters[i] = []\n",
    "                self.clustersIndeces[i] = []\n",
    "        \n",
    "            for i in range(img.shape[0]):\n",
    "                for j in range(img.shape[1]):\n",
    "                    distances = [np.linalg.norm(img[i,j,:]-self.centroids[centroid]) for centroid in self.centroids]\n",
    "                    clust_index = distances.index(min(distances))\n",
    "                    self.clustersIndeces[clust_index].append([i,j])\n",
    "                    self.clusters[clust_index].append(img[i,j,:])\n",
    "                    \n",
    "            prev_centroids = dict(self.centroids)         \n",
    "            \n",
    "            ##  re-assign centroids \n",
    "            for item in self.clusters:\n",
    "                self.centroids[item] = np.average(self.clusters[item],axis=0)\n",
    "\n",
    "            optimized = True\n",
    "            \n",
    "            for c in self.centroids:\n",
    "                original_centroid = prev_centroids[c]\n",
    "                current_centroid = self.centroids[c]\n",
    "                if np.sum((current_centroid-original_centroid)/((original_centroid)*100.0)) > self.tol:\n",
    "                    optimized = False\n",
    "\n",
    "            if optimized:\n",
    "                break\n",
    "        \n",
    "        output = np.zeros((img.shape[0],img.shape[1],3),np.uint8); \n",
    "        \n",
    "##assigning colors  \n",
    "\n",
    "        for cent in self.centroids:\n",
    "            for pair in self.clustersIndeces[cent]:\n",
    "                \n",
    "                if  (cent < p_index): #normal pixels---assign green color\n",
    "                    output[pair[0],pair[1],0] = self.rgbColors[0][0]\n",
    "                    output[pair[0],pair[1],1] = self.rgbColors[0][1]\n",
    "                    output[pair[0],pair[1],2] = self.rgbColors[0][2]\n",
    "                    \n",
    "                elif  (cent >= p_index) & (cent < w_p_index): #white pixels----assign white color\n",
    "                    output[pair[0],pair[1],0] = self.rgbColors[1][0]\n",
    "                    output[pair[0],pair[1],1] = self.rgbColors[1][1]\n",
    "                    output[pair[0],pair[1],2] = self.rgbColors[1][2]\n",
    "                    \n",
    "                elif  (cent >= w_p_index) & (cent < b_p_index): # black pixels---assign black color\n",
    "                    output[pair[0],pair[1],0] = self.rgbColors[2][0]\n",
    "                    output[pair[0],pair[1],1] = self.rgbColors[2][1]\n",
    "                    output[pair[0],pair[1],2] = self.rgbColors[2][2] \n",
    "                    \n",
    "                elif  (cent >= b_p_index): #lesions------assign red color\n",
    "                    output[pair[0],pair[1],0] = self.rgbColors[3][0]\n",
    "                    output[pair[0],pair[1],1] = self.rgbColors[3][1]\n",
    "                    output[pair[0],pair[1],2] = self.rgbColors[3][2] \n",
    "                    \n",
    "        return output\n",
    "    \n",
    "    \n",
    "    \n",
    "    \n",
    "    \n",
    "    \n",
    "    \n",
    "    \n",
    "    \n",
    "    \n",
    "    def fit_and_filter(self,img):\n",
    "\n",
    "        self.centroids = {}\n",
    "        \n",
    "        tempImg = img\n",
    "\n",
    "        p_index = len(patches)\n",
    "        w_p_index = len(patches)+len(whitePatches)\n",
    "        b_p_index = len(patches)+len(whitePatches)+len(blackPatches)\n",
    "\n",
    "        ref_feats_n = ref_feats_normal\n",
    "        ref_feats_w = ref_feats_white\n",
    "        ref_feats_b = ref_feats_black\n",
    "        ref_feats_l = ref_feats_lesion\n",
    "            \n",
    "            \n",
    "        \n",
    "        print('indeces----')\n",
    "        print p_index\n",
    "        print w_p_index\n",
    "        \n",
    "        for i in range(len(patches)):\n",
    "            self.centroids[i] = ref_feats_n[i][0]\n",
    "        #centroids for white and bright parts\n",
    "        for i in range(len(whitePatches)):\n",
    "            self.centroids[p_index+i] = ref_feats_w[i][0]\n",
    "        #centroids for black parts\n",
    "        for i in range(len(blackPatches)):\n",
    "            self.centroids[w_p_index+i] = ref_feats_b[i][0] \n",
    "            \n",
    "        for i in range(len(lesionPatches)):\n",
    "            self.centroids[b_p_index+i] = ref_feats_l[i][0]     \n",
    "            \n",
    "\n",
    "        for i in range(self.max_iter):\n",
    "            self.clusters = {}\n",
    "            self.clustersIndeces = {}\n",
    "                ##classes holder\n",
    "            for i in range(self.k):\n",
    "                self.clusters[i] = []\n",
    "                self.clustersIndeces[i] = []\n",
    "        \n",
    "            for i in range(img.shape[0]):\n",
    "                for j in range(img.shape[1]):\n",
    "                    distances = [np.linalg.norm(img[i,j,:]-self.centroids[centroid]) for centroid in self.centroids]\n",
    "                    clust_index = distances.index(min(distances))\n",
    "                    self.clustersIndeces[clust_index].append([i,j])\n",
    "                    self.clusters[clust_index].append(img[i,j,:])\n",
    "                    \n",
    "            prev_centroids = dict(self.centroids)         \n",
    "            \n",
    "            ##  re-assign centroids \n",
    "            for item in self.clusters:\n",
    "                self.centroids[item] = np.average(self.clusters[item],axis=0)\n",
    "\n",
    "            optimized = True\n",
    "            \n",
    "            for c in self.centroids:\n",
    "                original_centroid = prev_centroids[c]\n",
    "                current_centroid = self.centroids[c]\n",
    "                if np.sum((current_centroid-original_centroid)/((original_centroid)*100.0)) > self.tol:\n",
    "                    optimized = False\n",
    "\n",
    "            if optimized:\n",
    "                break\n",
    "        \n",
    "        output = np.zeros((img.shape[0],img.shape[1]),np.uint8); \n",
    "        \n",
    "##assigning colors  \n",
    "\n",
    "        for cent in self.centroids:\n",
    "            for pair in self.clustersIndeces[cent]: \n",
    "                if  (cent >= b_p_index): #lesions------assign red color\n",
    "                    output[pair[0],pair[1]] = 255\n",
    "                    \n",
    "        return binary_opening(binary_opening(output, disk(3)),disk(3))\n"
   ]
  },
  {
   "cell_type": "code",
   "execution_count": null,
   "metadata": {
    "collapsed": false
   },
   "outputs": [],
   "source": []
  },
  {
   "cell_type": "code",
   "execution_count": 45,
   "metadata": {
    "collapsed": true
   },
   "outputs": [],
   "source": [
    "# preparing Gabor filter bank kernels\n",
    "kernels = []\n",
    "for theta in np.arange(0, np.pi, np.pi / 6):\n",
    "    for sigma in (1.0,1.5):  #gausian kernel window size\n",
    "#         for frequency in (0.1, 0.2):\n",
    "            kernel = np.real(gabor_kernel(0.15, theta=theta,sigma_x=sigma, sigma_y=sigma))\n",
    "            kernels.append(kernel)"
   ]
  },
  {
   "cell_type": "code",
   "execution_count": null,
   "metadata": {
    "collapsed": true
   },
   "outputs": [],
   "source": []
  },
  {
   "cell_type": "code",
   "execution_count": 46,
   "metadata": {
    "collapsed": false,
    "scrolled": false
   },
   "outputs": [
    {
     "name": "stdout",
     "output_type": "stream",
     "text": [
      "ref_feats_dict[0][0]--->>>>>>-----\n",
      "{0: array([[  2.64760437e-01,   2.31585702e-06,   2.64773009e-01, ...,\n",
      "          9.90832822e-01,   1.00000000e+00,   1.00000000e+00],\n",
      "       [  2.68018910e-01,   2.08276077e-05,   2.71289678e-01, ...,\n",
      "          9.91150166e-01,   1.00000000e+00,   9.98346846e-01],\n",
      "       [  2.72397608e-01,   1.20558787e-05,   2.73531428e-01, ...,\n",
      "          9.91440817e-01,   1.00000000e+00,   9.94821317e-01],\n",
      "       ..., \n",
      "       [  2.55395097e-01,   1.11387554e-05,   2.53834086e-01, ...,\n",
      "          9.95702257e-01,   1.00000000e+00,   9.31999234e-01],\n",
      "       [  2.52078259e-01,   1.28891556e-05,   2.50326997e-01, ...,\n",
      "          9.95862981e-01,   1.00000000e+00,   9.25743167e-01],\n",
      "       [  2.50315544e-01,   3.39104913e-06,   2.52555276e-01, ...,\n",
      "          9.96003248e-01,   1.00000000e+00,   9.19253776e-01]]), 1: array([[  1.81763209e-01,   1.84438899e-06,   1.81771362e-01, ...,\n",
      "          1.36441627e-02,   1.00000000e+00,   1.00000000e+00],\n",
      "       [  1.76499232e-01,   3.29987628e-05,   1.71253068e-01, ...,\n",
      "          1.35733903e-02,   1.00000000e+00,   1.00000000e+00],\n",
      "       [  1.71756526e-01,   4.39254084e-06,   1.72296582e-01, ...,\n",
      "          1.34428937e-02,   1.00000000e+00,   1.00000000e+00],\n",
      "       ..., \n",
      "       [  2.17800199e-01,   3.14016664e-06,   2.17996435e-01, ...,\n",
      "          1.26402874e-02,   1.00000000e+00,   1.00000000e+00],\n",
      "       [  2.18594979e-01,   3.63290533e-06,   2.19131214e-01, ...,\n",
      "          1.26402871e-02,   1.00000000e+00,   1.00000000e+00],\n",
      "       [  2.19162496e-01,   1.79305441e-06,   2.09452460e-01, ...,\n",
      "          1.26402871e-02,   1.00000000e+00,   1.00000000e+00]])}\n",
      "ref_feats_dict[0][0][0]--->>>>>>-----\n",
      "[[  2.64760437e-01   2.31585702e-06   2.64773009e-01 ...,   9.90832822e-01\n",
      "    1.00000000e+00   1.00000000e+00]\n",
      " [  2.68018910e-01   2.08276077e-05   2.71289678e-01 ...,   9.91150166e-01\n",
      "    1.00000000e+00   9.98346846e-01]\n",
      " [  2.72397608e-01   1.20558787e-05   2.73531428e-01 ...,   9.91440817e-01\n",
      "    1.00000000e+00   9.94821317e-01]\n",
      " ..., \n",
      " [  2.55395097e-01   1.11387554e-05   2.53834086e-01 ...,   9.95702257e-01\n",
      "    1.00000000e+00   9.31999234e-01]\n",
      " [  2.52078259e-01   1.28891556e-05   2.50326997e-01 ...,   9.95862981e-01\n",
      "    1.00000000e+00   9.25743167e-01]\n",
      " [  2.50315544e-01   3.39104913e-06   2.52555276e-01 ...,   9.96003248e-01\n",
      "    1.00000000e+00   9.19253776e-01]]\n",
      "ref_feats_dict[0][0][0][0]--->>>>>>-----\n"
     ]
    }
   ],
   "source": [
    "##prepare reference features\n",
    "ref_feats_dict = {}\n",
    "\n",
    "for i in range(6):\n",
    "    ref_feats_dict[i]=[]\n",
    "    ref_feats_dict[i].append(ref_img_feats('normal',which=i+1))\n",
    "    ref_feats_dict[i].append(ref_img_feats('white',which=i+1))\n",
    "    ref_feats_dict[i].append(ref_img_feats('black',which=i+1))\n",
    "    ref_feats_dict[i].append(ref_img_feats('lesion',which=i+1))\n",
    "    \n",
    "# print \"ref_feats_dict\"\n",
    "# print ref_feats_dict\n",
    "\n",
    "print \"ref_feats_dict[0][0]--->>>>>>-----\"\n",
    "print ref_feats_dict[0][0]\n",
    "print \"ref_feats_dict[0][0][0]--->>>>>>-----\"\n",
    "print ref_feats_dict[0][0][0]\n",
    "print \"ref_feats_dict[0][0][0][0]--->>>>>>-----\"\n",
    "# print ref_feats_dict[0][0][0][0]\n"
   ]
  },
  {
   "cell_type": "code",
   "execution_count": null,
   "metadata": {
    "collapsed": true
   },
   "outputs": [],
   "source": []
  },
  {
   "cell_type": "code",
   "execution_count": null,
   "metadata": {
    "collapsed": false,
    "scrolled": false
   },
   "outputs": [],
   "source": []
  },
  {
   "cell_type": "code",
   "execution_count": 47,
   "metadata": {
    "collapsed": true
   },
   "outputs": [],
   "source": [
    "##applying to imgSamples"
   ]
  },
  {
   "cell_type": "code",
   "execution_count": null,
   "metadata": {
    "collapsed": false,
    "scrolled": false
   },
   "outputs": [],
   "source": []
  },
  {
   "cell_type": "code",
   "execution_count": null,
   "metadata": {
    "collapsed": false
   },
   "outputs": [],
   "source": []
  },
  {
   "cell_type": "code",
   "execution_count": 78,
   "metadata": {
    "collapsed": false,
    "scrolled": false
   },
   "outputs": [
    {
     "name": "stdout",
     "output_type": "stream",
     "text": [
      "targetSet---\n",
      "3\n",
      "3\n",
      "42\n",
      "img ----done\n"
     ]
    },
    {
     "data": {
      "image/png": "[encoded data removed]",
      "text/plain": [
       "<matplotlib.figure.Figure at 0x102994e10>"
      ]
     },
     "metadata": {},
     "output_type": "display_data"
    }
   ],
   "source": [
    "colnum = 1\n",
    "# rownum = int(math.floor((float(len(imgSamples))/ float(colnum))+1))\n",
    "rownum = 2\n",
    "\n",
    "selem = disk(20)\n",
    "# print(rownum)\n",
    "\n",
    "targetSet = ref_feats_dict[0][0][0][0]  #normal patches mass_compute_and_combine_feats\n",
    "\n",
    "\n",
    "fig, axes = plt.subplots(rownum, colnum, figsize=(8, rownum*8), sharex=True, sharey=True)\n",
    "ax = axes.ravel()\n",
    "index = 0\n",
    "\n",
    "print \"targetSet---\"\n",
    "print len(targetSet[36:39])\n",
    "print len(targetSet[39:])\n",
    "print len(targetSet)\n",
    "    \n",
    "        \n",
    "ax[index].scatter(range(36), targetSet[:36], marker='o', c='b', s=20, label='TEXTURE')\n",
    "ax[index].scatter(range(6),targetSet[36:],  marker='o', c='r', s=20,  label='COLOR')\n",
    "ax[index].legend()\n",
    "\n",
    "\n",
    "ax[index+1].scatter(range(3), targetSet[36:39],  marker='o', c='b', s=20,  label='HSV')\n",
    "ax[index+1].scatter(range(3), targetSet[39:],  marker='o', c='r', s=20,  label='Aprox-HSV')\n",
    "ax[index+1].legend()\n",
    "    \n",
    "    \n",
    "\n",
    "print \"img ----done\"\n",
    "    \n",
    "plt.show()"
   ]
  },
  {
   "cell_type": "markdown",
   "metadata": {
    "collapsed": false,
    "scrolled": false
   },
   "source": []
  },
  {
   "cell_type": "code",
   "execution_count": 74,
   "metadata": {
    "collapsed": false,
    "scrolled": true
   },
   "outputs": [
    {
     "data": {
      "text/plain": [
       "36"
      ]
     },
     "execution_count": 74,
     "metadata": {},
     "output_type": "execute_result"
    }
   ],
   "source": [
    "len(range(36))"
   ]
  },
  {
   "cell_type": "code",
   "execution_count": null,
   "metadata": {
    "collapsed": false
   },
   "outputs": [],
   "source": []
  }
 ],
 "metadata": {
  "anaconda-cloud": {},
  "kernelspec": {
   "display_name": "Python 2",
   "language": "python",
   "name": "python2"
  },
  "language_info": {
   "codemirror_mode": {
    "name": "ipython",
    "version": 2
   },
   "file_extension": ".py",
   "mimetype": "text/x-python",
   "name": "python",
   "nbconvert_exporter": "python",
   "pygments_lexer": "ipython2",
   "version": "2.7.12"
  }
 },
 "nbformat": 4,
 "nbformat_minor": 0
}
